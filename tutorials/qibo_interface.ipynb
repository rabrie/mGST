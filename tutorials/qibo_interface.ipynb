{
 "cells": [
  {
   "cell_type": "markdown",
   "id": "19498ba6-106b-4ef2-b798-ca7d0a6fce8a",
   "metadata": {},
   "source": [
    "# Using the qiskit interface to perform mGST\n",
    "\n",
    "In this notebook we will generate random sequences of gates, create qiskit circuits from them, and simulate them on a qiskit simulator.\n",
    "Then we estimate the gates."
   ]
  },
  {
   "cell_type": "code",
   "execution_count": 11,
   "id": "c1a2821e",
   "metadata": {},
   "outputs": [
    {
     "name": "stderr",
     "output_type": "stream",
     "text": [
      "[Qibo 0.2.12|INFO|2024-09-16 10:20:37]: Using numpy backend on /CPU:0\n"
     ]
    },
    {
     "name": "stdout",
     "output_type": "stream",
     "text": [
      "The autoreload extension is already loaded. To reload it, use:\n",
      "  %reload_ext autoreload\n"
     ]
    }
   ],
   "source": [
    "%load_ext autoreload\n",
    "%autoreload 2\n",
    "\n",
    "import numpy as np\n",
    "\n",
    "from qibo import gates, set_backend\n",
    "from qibo.backends import NumpyBackend\n",
    "\n",
    "from mGST import qibo_interface\n",
    "from mGST.qibo_interface import job_counts_to_mgst_format, get_gate_estimation\n",
    "\n",
    "backend = NumpyBackend()\n",
    "set_backend(\"numpy\")"
   ]
  },
  {
   "cell_type": "code",
   "execution_count": 12,
   "id": "29d13ce6",
   "metadata": {},
   "outputs": [],
   "source": [
    "# Example usage with RX, RY, and RZZ gates\n",
    "rx_pi_2 = gates.RX(0, np.pi / 2)\n",
    "rx_pi = gates.RX(0, np.pi)\n",
    "ry_pi_2 = gates.RY(0, np.pi / 2)\n",
    "ry_pi = gates.RY(0, np.pi)\n",
    "rzz_pi_2 = gates.RZZ(0, 1, np.pi / 2)\n",
    "idle_gate = gates.I(0)\n",
    "\n",
    "gate_set = [idle_gate, rx_pi, ry_pi, rx_pi_2, ry_pi_2,]\n",
    "K_true = qibo_interface.qibo_gate_to_operator(gate_set)"
   ]
  },
  {
   "cell_type": "code",
   "execution_count": 13,
   "id": "8af13711",
   "metadata": {},
   "outputs": [],
   "source": [
    "sequence_number = 100  # Number of sequences\n",
    "shots = 1000  # Number of samples per sequences\n",
    "sequence_length = 7 # The depth of randomly generated circuits for GST\n",
    "n_qubits = 1 # The total number of qubits on the backend\n",
    "active_qubits = [0] # The qubits on which the gate set is defined\n",
    "n_povm = 2**(len(active_qubits)) # The number of measurement outcomes"
   ]
  },
  {
   "cell_type": "code",
   "execution_count": 14,
   "id": "07afcc8b",
   "metadata": {},
   "outputs": [],
   "source": [
    "# Running the circuits and formating the result\n",
    "gate_sequences = qibo_interface.get_gate_sequence(sequence_number, sequence_length, len(gate_set))\n",
    "qibo_circuits = qibo_interface.get_qibo_circuits(gate_sequences, gate_set, n_qubits, active_qubits)\n",
    "results = backend.execute_circuits(qibo_circuits, nshots=shots)\n",
    "counts = [result.frequencies() for result in results]\n",
    "sequence_results = job_counts_to_mgst_format(active_qubits, n_povm, counts)"
   ]
  },
  {
   "cell_type": "code",
   "execution_count": 15,
   "id": "221de299-0048-4cdb-9da5-02afcd5d5ca0",
   "metadata": {},
   "outputs": [
    {
     "name": "stdout",
     "output_type": "stream",
     "text": [
      "Starting mGST optimization...\n",
      "  0%|          | 0/100 [00:01<?, ?it/s]\n",
      "Batch optimization successful, improving estimate over full data....\n",
      " 12%|█▏        | 6/50 [00:09<01:10,  1.61s/it]\n",
      "\t Convergence criterion satisfied\n",
      "\t Final objective 1.35e-4 with # of initializations: 1 in time 10.87s\n",
      "Mean variation error: 0.04166070624365831\n",
      "Optimizing gauge...\n",
      "Compressive GST routine complete\n",
      "First results:\n",
      "           F_avg  Min. Spectral distances\n",
      "Gate 0  0.999520                 0.005017\n",
      "Gate 1  0.999242                 0.004768\n",
      "Gate 2  0.997904                 0.003151\n",
      "Gate 3  0.999947                 0.007859\n",
      "Gate 4  0.999109                 0.002212\n",
      "                                \n",
      "Final cost function     0.000135\n",
      "Mean TVD estimate-data  0.009410\n",
      "Mean TVD target-data    0.010080\n",
      "SPAM error:             0.001743\n"
     ]
    }
   ],
   "source": [
    "# Running GST\n",
    "X_opt, E_opt, rho_opt = get_gate_estimation(gate_set, gate_sequences, sequence_results, shots, rK = 4)"
   ]
  },
  {
   "cell_type": "code",
   "execution_count": null,
   "id": "4c48231f-e955-4433-995c-b103b3704656",
   "metadata": {},
   "outputs": [],
   "source": []
  }
 ],
 "metadata": {
  "kernelspec": {
   "display_name": "Python 3 (ipykernel)",
   "language": "python",
   "name": "python3"
  },
  "language_info": {
   "codemirror_mode": {
    "name": "ipython",
    "version": 3
   },
   "file_extension": ".py",
   "mimetype": "text/x-python",
   "name": "python",
   "nbconvert_exporter": "python",
   "pygments_lexer": "ipython3",
   "version": "3.12.3"
  }
 },
 "nbformat": 4,
 "nbformat_minor": 5
}
