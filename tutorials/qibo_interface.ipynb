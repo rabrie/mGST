{
 "cells": [
  {
   "cell_type": "markdown",
   "id": "19498ba6-106b-4ef2-b798-ca7d0a6fce8a",
   "metadata": {},
   "source": [
    "# Using the qiskit interface to perform mGST\n",
    "\n",
    "In this notebook we will generate random sequences of gates, create qiskit circuits from them, and simulate them on a qiskit simulator.\n",
    "Then we estimate the gates."
   ]
  },
  {
   "cell_type": "code",
   "execution_count": 12,
   "id": "c1a2821e",
   "metadata": {},
   "outputs": [
    {
     "name": "stdout",
     "output_type": "stream",
     "text": [
      "The autoreload extension is already loaded. To reload it, use:\n",
      "  %reload_ext autoreload\n"
     ]
    }
   ],
   "source": [
    "%load_ext autoreload\n",
    "%autoreload 2\n",
    "\n",
    "import numpy as np\n",
    "\n",
    "from qibo import gates\n",
    "\n",
    "from mGST import qibo_interface\n",
    "from mGST.qiskit_interface import job_counts_to_mgst_format, get_gate_estimation\n",
    "\n",
    "\n",
    "backend = Aer.get_backend(\"qasm_simulator\")"
   ]
  },
  {
   "cell_type": "code",
   "execution_count": 13,
   "id": "29d13ce6",
   "metadata": {},
   "outputs": [],
   "source": [
    "# Example usage with RX, RY, and RZZ gates\n",
    "rx_pi_2 = gates.RX(0, np.pi / 2)\n",
    "rx_pi = gates.RX(0, np.pi)\n",
    "ry_pi_2 = gates.RY(0, np.pi / 2)\n",
    "ry_pi = gates.RY(0, np.pi)\n",
    "rzz_pi_2 = gates.RZZ(0, 1, np.pi / 2)\n",
    "idle_gate = gates.I()\n",
    "\n",
    "gate_set = [idle_gate, rx_pi, ry_pi, rx_pi_2, ry_pi_2,]\n",
    "K_true = qibo_interface.qiskit_gate_to_operator(gate_set)"
   ]
  },
  {
   "cell_type": "code",
   "execution_count": 14,
   "id": "8af13711",
   "metadata": {},
   "outputs": [],
   "source": [
    "sequence_number = 100  # Number of sequences\n",
    "shots = 1000  # Number of samples per sequences\n",
    "sequence_length = 7 # The depth of randomly generated circuits for GST\n",
    "n_qubits = 1 # The total number of qubits on the backend\n",
    "active_qubits = [0] # The qubits on which the gate set is defined\n",
    "n_povm = 2**(len(active_qubits)) # The number of measurement outcomes"
   ]
  },
  {
   "cell_type": "code",
   "execution_count": 15,
   "id": "07afcc8b",
   "metadata": {},
   "outputs": [],
   "source": [
    "# Running the circuits and formating the result\n",
    "gate_sequences = qibo_interface.get_gate_sequence(sequence_number, sequence_length, len(gate_set))\n",
    "qiskit_circuits = qibo_interface.get_qiskit_circuits(gate_sequences, gate_set, n_qubits, active_qubits)\n",
    "job_counts = backend.run(qiskit_circuits, shots=shots).result().get_counts()\n",
    "sequence_results = job_counts_to_mgst_format(active_qubits, n_povm, job_counts)"
   ]
  },
  {
   "cell_type": "code",
   "execution_count": 16,
   "id": "221de299-0048-4cdb-9da5-02afcd5d5ca0",
   "metadata": {},
   "outputs": [
    {
     "name": "stdout",
     "output_type": "stream",
     "text": [
      "Starting mGST optimization...\n",
      "  1%|▊                                                                                 | 1/100 [00:01<02:30,  1.52s/it]\n",
      "Batch optimization successful, improving estimate over full data....\n",
      " 12%|█████████▉                                                                         | 6/50 [00:07<00:58,  1.33s/it]\n",
      "\t Convergence criterion satisfied\n",
      "\t Final objective 1.24e-4 with # of initializations: 1 in time 9.52s\n",
      "Mean variation error: 0.026602788732712417\n",
      "Optimizing gauge...\n",
      "Compressive GST routine complete\n",
      "First results:\n",
      "           F_avg  Min. Spectral distances\n",
      "Gate 0  0.999692                 0.003428\n",
      "Gate 1  0.999264                 0.002527\n",
      "Gate 2  0.999669                 0.001694\n",
      "Gate 3  0.999072                 0.003611\n",
      "Gate 4  0.999856                 0.002295\n",
      "                                \n",
      "Final cost function     0.000124\n",
      "Mean TVD estimate-data  0.007763\n",
      "Mean TVD target-data    0.007470\n",
      "SPAM error:             0.012498\n"
     ]
    }
   ],
   "source": [
    "# Running GST\n",
    "X_opt, E_opt, rho_opt = get_gate_estimation(gate_set, gate_sequences, sequence_results, shots, rK = 4)"
   ]
  },
  {
   "cell_type": "code",
   "execution_count": null,
   "id": "4c48231f-e955-4433-995c-b103b3704656",
   "metadata": {},
   "outputs": [],
   "source": []
  }
 ],
 "metadata": {
  "kernelspec": {
   "display_name": "Python 3 (ipykernel)",
   "language": "python",
   "name": "python3"
  },
  "language_info": {
   "codemirror_mode": {
    "name": "ipython",
    "version": 3
   },
   "file_extension": ".py",
   "mimetype": "text/x-python",
   "name": "python",
   "nbconvert_exporter": "python",
   "pygments_lexer": "ipython3",
   "version": "3.11.9"
  }
 },
 "nbformat": 4,
 "nbformat_minor": 5
}
